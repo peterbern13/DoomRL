{
 "cells": [
  {
   "cell_type": "code",
   "execution_count": 1,
   "metadata": {
    "collapsed": true
   },
   "outputs": [],
   "source": [
    "%load_ext autoreload\n",
    "%autoreload 2"
   ]
  },
  {
   "cell_type": "code",
   "execution_count": 2,
   "metadata": {},
   "outputs": [
    {
     "ename": "ImportError",
     "evalue": "dlopen(/Library/Frameworks/Python.framework/Versions/2.7/lib/python2.7/site-packages/vizdoom/vizdoom.so, 2): Symbol not found: __ZN5boost6system15system_categoryEv\n  Referenced from: /Library/Frameworks/Python.framework/Versions/2.7/lib/python2.7/site-packages/vizdoom/vizdoom.so\n  Expected in: /usr/local/opt/boost/lib/libboost_system-mt.dylib\n in /Library/Frameworks/Python.framework/Versions/2.7/lib/python2.7/site-packages/vizdoom/vizdoom.so",
     "output_type": "error",
     "traceback": [
      "\u001b[0;31m---------------------------------------------------------------------------\u001b[0m",
      "\u001b[0;31mImportError\u001b[0m                               Traceback (most recent call last)",
      "\u001b[0;32m<ipython-input-2-34eb16a57c72>\u001b[0m in \u001b[0;36m<module>\u001b[0;34m()\u001b[0m\n\u001b[1;32m      1\u001b[0m \u001b[0;32mimport\u001b[0m \u001b[0mnumpy\u001b[0m \u001b[0;32mas\u001b[0m \u001b[0mnp\u001b[0m\u001b[0;34m\u001b[0m\u001b[0m\n\u001b[1;32m      2\u001b[0m \u001b[0;31m# from vizdoom import *\u001b[0m\u001b[0;34m\u001b[0m\u001b[0;34m\u001b[0m\u001b[0m\n\u001b[0;32m----> 3\u001b[0;31m \u001b[0;32mfrom\u001b[0m \u001b[0mdoom_src\u001b[0m \u001b[0;32mimport\u001b[0m \u001b[0mutilities\u001b[0m\u001b[0;34m\u001b[0m\u001b[0m\n\u001b[0m",
      "\u001b[0;32m/Users/peterbernstein/Documents/DoomRL/doom_src/utilities.py\u001b[0m in \u001b[0;36m<module>\u001b[0;34m()\u001b[0m\n\u001b[1;32m      6\u001b[0m \u001b[0;34m\u001b[0m\u001b[0m\n\u001b[1;32m      7\u001b[0m \u001b[0;32mfrom\u001b[0m \u001b[0mcollections\u001b[0m \u001b[0;32mimport\u001b[0m \u001b[0mdeque\u001b[0m\u001b[0;34m\u001b[0m\u001b[0m\n\u001b[0;32m----> 8\u001b[0;31m \u001b[0;32mfrom\u001b[0m \u001b[0mvizdoom\u001b[0m \u001b[0;32mimport\u001b[0m \u001b[0;34m*\u001b[0m\u001b[0;34m\u001b[0m\u001b[0m\n\u001b[0m\u001b[1;32m      9\u001b[0m \u001b[0;34m\u001b[0m\u001b[0m\n\u001b[1;32m     10\u001b[0m \u001b[0;34m\u001b[0m\u001b[0m\n",
      "\u001b[0;32m/Library/Frameworks/Python.framework/Versions/2.7/lib/python2.7/site-packages/vizdoom/__init__.py\u001b[0m in \u001b[0;36m<module>\u001b[0;34m()\u001b[0m\n\u001b[1;32m     10\u001b[0m             _this_python_version, _COMPILED_PYTHON_VERSION))\n\u001b[1;32m     11\u001b[0m \u001b[0;34m\u001b[0m\u001b[0m\n\u001b[0;32m---> 12\u001b[0;31m \u001b[0;32mfrom\u001b[0m \u001b[0;34m.\u001b[0m\u001b[0mvizdoom\u001b[0m \u001b[0;32mimport\u001b[0m \u001b[0m__version__\u001b[0m \u001b[0;32mas\u001b[0m \u001b[0m__version__\u001b[0m\u001b[0;34m\u001b[0m\u001b[0m\n\u001b[0m\u001b[1;32m     13\u001b[0m \u001b[0;32mfrom\u001b[0m \u001b[0;34m.\u001b[0m\u001b[0mvizdoom\u001b[0m \u001b[0;32mimport\u001b[0m \u001b[0;34m*\u001b[0m\u001b[0;34m\u001b[0m\u001b[0m\n\u001b[1;32m     14\u001b[0m \u001b[0;34m\u001b[0m\u001b[0m\n",
      "\u001b[0;31mImportError\u001b[0m: dlopen(/Library/Frameworks/Python.framework/Versions/2.7/lib/python2.7/site-packages/vizdoom/vizdoom.so, 2): Symbol not found: __ZN5boost6system15system_categoryEv\n  Referenced from: /Library/Frameworks/Python.framework/Versions/2.7/lib/python2.7/site-packages/vizdoom/vizdoom.so\n  Expected in: /usr/local/opt/boost/lib/libboost_system-mt.dylib\n in /Library/Frameworks/Python.framework/Versions/2.7/lib/python2.7/site-packages/vizdoom/vizdoom.so"
     ]
    }
   ],
   "source": [
    "import numpy as np\n",
    "# from vizdoom import *\n",
    "from doom_src import utilities"
   ]
  },
  {
   "cell_type": "code",
   "execution_count": null,
   "metadata": {
    "collapsed": true
   },
   "outputs": [],
   "source": [
    "def eGreedyActionSelection(q_curr, eps):\n",
    "    '''\n",
    "    Preforms epsilon greedy action selectoin based on the Q-values.\n",
    "    \n",
    "    Args:\n",
    "        q_curr: A numpy array that contains the Q-values for each action for a state.\n",
    "        eps: The probability to select a random action. Float between 0 and 1.\n",
    "        \n",
    "    Returns:\n",
    "        The selected action.\n",
    "    '''\n",
    "    r = np.random.random()\n",
    "    if r < eps:\n",
    "        #eps of the time return a random index of the vector q_curr\n",
    "        return np.random.randint(0,len(q_curr))\n",
    "    else:\n",
    "        #1-eps of the time return an index of the max element of q (ties broken randomly)\n",
    "        max_index = [0]\n",
    "        for i in range(0,len(q_curr)):\n",
    "            if q_curr[i] > q_curr[max_index[0]]:\n",
    "                max_index = [i]\n",
    "            elif q_curr[i] == q_curr[max_index[0]]:\n",
    "                max_index.append(i)\n",
    "        return random.choice(max_index)    \n",
    "    "
   ]
  },
  {
   "cell_type": "code",
   "execution_count": null,
   "metadata": {
    "collapsed": true
   },
   "outputs": [],
   "source": [
    "def sarsa(game, actions, num_episodes, gamma=1.0, alpha=0.1, \n",
    "                start_eps=0.2, final_eps=0.1, annealing_steps=1000,\n",
    "                max_episode_steps=200):\n",
    "    '''\n",
    "    Sarsa algorithm.\n",
    "    \n",
    "    Args:\n",
    "        - num_episodes: The number of episodes to train the agent for\n",
    "        - gamma: The discount factor\n",
    "        - alpha: The stepsize\n",
    "        - start_eps: The initial epsilon value for e-greedy action selection\n",
    "        - final_eps: The final epsilon value for the e-greedy action selection\n",
    "        - annealing_steps: The number of steps to anneal epsilon over\n",
    "        - max_episode_steps: The maximum number of steps an episode can take\n",
    "        \n",
    "    Returns: (Q_func, episode_rewards, episode_lengths)\n",
    "        - Q: Dictonary mapping state -> action values\n",
    "        - episode_rewards: Numpy array containing the reward of each episode during training\n",
    "        - episode_lengths: Numpy array containing the length of each episode during training\n",
    "    '''\n",
    "    Q = defaultdict(lambda: np.zeros(len(actions)))\n",
    "    episode_rewards = np.zeros(num_episodes)\n",
    "    episode_lengths = np.zeros(num_episodes)\n",
    "\n",
    "    exploration = utilities.LinearSchedule(annealing_steps, final_eps, start_eps)\n",
    "    \n",
    "    for i in range(num_episodes):\n",
    "        frame = game.get_state().screen_buffer\n",
    "        state, stacked_frames = stack_frames(\n",
    "              stacked_frames, frame, True, config[\"stack_size\"]\n",
    "        )\n",
    "        \n",
    "        action = eGreedyActionSelection(Q[state], exploration.value(i))\n",
    "        done = False\n",
    "        for t in range(max_episode_steps):\n",
    "            next_state, reward, done, _ = env.step(action)\n",
    "#             next_action_p = pi(next_state, exploration.value(i))\n",
    "#             next_action = np.random.choice(np.arange(len(next_action_p)), p=next_action_p)\n",
    "            next_action = eGreedyActionSelection(Q[next_state],exploration.value(i) )\n",
    "            episode_rewards[i] += reward\n",
    "            episode_lengths[i] += 1\n",
    "#             td = reward + gamma * Q[next_state][next_action] - Q[state][action]\n",
    "#             Q[state][action] += alpha * td\n",
    "            Q[state][action] += alpha*(reward + gamma * Q[next_state][next_action] - Q[state][action])\n",
    "            if done:\n",
    "                break\n",
    "            state = next_state\n",
    "            action = next_action \n",
    "    \n",
    "    return Q, episode_rewards, episode_lengths"
   ]
  },
  {
   "cell_type": "code",
   "execution_count": null,
   "metadata": {
    "collapsed": true
   },
   "outputs": [],
   "source": [
    "config = utilities.get_config(\"configs/config.json\")\n",
    "utilities.test_environment(config)\n",
    "\n",
    "config[]\n",
    "\n",
    "Q, episode_rewards, episode_lengths = sarsa(game, actions, num_episodes, gamma=1.0, alpha=0.1, \n",
    "                start_eps=0.2, final_eps=0.1, annealing_steps=1000,\n",
    "                max_episode_steps=200):"
   ]
  },
  {
   "cell_type": "code",
   "execution_count": null,
   "metadata": {
    "collapsed": true
   },
   "outputs": [],
   "source": []
  }
 ],
 "metadata": {
  "kernelspec": {
   "display_name": "Python 2",
   "language": "python",
   "name": "python2"
  },
  "language_info": {
   "codemirror_mode": {
    "name": "ipython",
    "version": 2
   },
   "file_extension": ".py",
   "mimetype": "text/x-python",
   "name": "python",
   "nbconvert_exporter": "python",
   "pygments_lexer": "ipython2",
   "version": "2.7.15"
  }
 },
 "nbformat": 4,
 "nbformat_minor": 2
}
