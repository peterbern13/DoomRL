{
 "cells": [
  {
   "cell_type": "code",
   "execution_count": 1,
   "metadata": {},
   "outputs": [],
   "source": [
    "%load_ext autoreload\n",
    "%autoreload 2"
   ]
  },
  {
   "cell_type": "code",
   "execution_count": 2,
   "metadata": {},
   "outputs": [],
   "source": [
    "import matplotlib.pyplot as plt\n",
    "import tensorflow as tf\n",
    "import numpy as np\n",
    "import random\n",
    "import tqdm\n",
    "\n",
    "from tensorflow.keras.callbacks import TensorBoard\n",
    "from tensorflow.keras import layers\n",
    "from doom_src import utilities\n",
    "from collections import deque\n",
    "from time import time\n",
    "from vizdoom import *"
   ]
  },
  {
   "cell_type": "markdown",
   "metadata": {},
   "source": [
    "First, let's load the config file and create a new game instance"
   ]
  },
  {
   "cell_type": "code",
   "execution_count": 3,
   "metadata": {},
   "outputs": [],
   "source": [
    "config = utilities.get_config('configs/config.json')"
   ]
  },
  {
   "cell_type": "code",
   "execution_count": 4,
   "metadata": {},
   "outputs": [],
   "source": [
    "game, actions = utilities.create_environment(config, visible=False)"
   ]
  },
  {
   "cell_type": "markdown",
   "metadata": {},
   "source": [
    "We will now need a DQN model"
   ]
  },
  {
   "cell_type": "code",
   "execution_count": 5,
   "metadata": {},
   "outputs": [],
   "source": [
    "class DQN_D():\n",
    "    \"\"\"\n",
    "    Define the Deep-Q Network to play Doom.\n",
    "    \"\"\"\n",
    "    \n",
    "    def __init__(self, config):\n",
    "        frame_size = config['frame_size']\n",
    "        stack_size = config['stack_size']\n",
    "        learning_rate = config['learning_rate']\n",
    "        \n",
    "        model = tf.keras.Sequential()\n",
    "        \n",
    "        # Convolutional layer 1\n",
    "        model.add(\n",
    "            layers.Convolution2D(\n",
    "                filters=32, \n",
    "                kernel_size=(8, 8),\n",
    "                strides=(4,4),\n",
    "                padding='valid',\n",
    "                input_shape=(frame_size, frame_size, stack_size),\n",
    "            )\n",
    "        )\n",
    "        \n",
    "        model.add(\n",
    "            layers.BatchNormalization(\n",
    "                epsilon = 1e-5,\n",
    "            )\n",
    "        )\n",
    "\n",
    "        # Convolutional layer 2\n",
    "        model.add(\n",
    "            layers.Convolution2D(\n",
    "                filters=64, \n",
    "                kernel_size=(4, 4),\n",
    "                strides=(2,2),\n",
    "                padding='valid',\n",
    "            )\n",
    "        )\n",
    "        \n",
    "        model.add(\n",
    "            layers.BatchNormalization(\n",
    "                epsilon = 1e-5,\n",
    "            )\n",
    "        )\n",
    "        \n",
    "        # Convolutional layer 3\n",
    "        model.add(\n",
    "            layers.Convolution2D(\n",
    "                filters=64, \n",
    "                kernel_size=(4, 4),\n",
    "                strides=(1,1),\n",
    "                padding='valid',\n",
    "            )\n",
    "        )\n",
    "        \n",
    "        model.add(\n",
    "            layers.BatchNormalization(\n",
    "                epsilon = 1e-5,\n",
    "            )\n",
    "        )\n",
    "    \n",
    "        # Flatten before passing to dense layers\n",
    "        model.add(layers.Flatten())\n",
    "        \n",
    "        # Dense layer 1\n",
    "        model.add(\n",
    "            layers.Dense(\n",
    "                units=512,\n",
    "                activation='relu',\n",
    "            )\n",
    "        )\n",
    "        \n",
    "        # Dense layer 2\n",
    "        model.add(\n",
    "            layers.Dense(\n",
    "                units=3,\n",
    "                activation='relu',\n",
    "            )\n",
    "        )\n",
    "        \n",
    "        self.op = tf.keras.optimizers.Adam(lr=learning_rate)\n",
    "        model.compile(loss='mse', optimizer=self.op)\n",
    "        \n",
    "        tensorboard = TensorBoard(log_dir=\"logs/{}\".format(time()))\n",
    "        \n",
    "        self.model = model\n",
    "        self.board = tensorboard"
   ]
  },
  {
   "cell_type": "code",
   "execution_count": 6,
   "metadata": {},
   "outputs": [],
   "source": [
    "def predict_action(policy_network, epsilon, state, actions):\n",
    "    \"\"\"\n",
    "    Implements the epsilon-greedy strategy\n",
    "    \"\"\"\n",
    "    \n",
    "    if np.random.rand(1) < epsilon:\n",
    "        max_Q = np.random.randint(len(actions))\n",
    "    \n",
    "    else:\n",
    "        # print(state.shape)\n",
    "        q = policy_network.model.predict(state.reshape([1,] + list(state.shape)))\n",
    "        max_Q = np.argmax(q)\n",
    "        # print(q, max_Q)\n",
    "    \n",
    "    action = actions[max_Q]\n",
    "        \n",
    "    return action, max_Q "
   ]
  },
  {
   "cell_type": "code",
   "execution_count": 7,
   "metadata": {},
   "outputs": [],
   "source": [
    "def train_net(config, n_episodes, game, actions):\n",
    "    \"\"\"\n",
    "    Train the Q Network\n",
    "    \"\"\"\n",
    "    \n",
    "    gamma           = config['gamma']\n",
    "    skip_rate       = config['skip_rate']\n",
    "    stack_size      = config['stack_size']\n",
    "    frame_size      = config['frame_size']\n",
    "    pretrain_steps  = config['pretrain_steps']\n",
    "    batch_size      = config['batch_size']\n",
    "    memory_size     = config['memory_size']\n",
    "    annealing_steps = config['annealing_steps']\n",
    "    annealing_stop  = config['annealing_stop']\n",
    "    annealing_start = config['annealing_start']\n",
    "    \n",
    "    n_actions = len(actions)\n",
    "    \n",
    "    episode_rewards = []\n",
    "    episode_losses = []\n",
    "    \n",
    "    # Initialize the DQN\n",
    "    policy_net = DQN_D(config)\n",
    "    \n",
    "    # Inititalize the memory buffer\n",
    "    memory = utilities.Memory(memory_size)\n",
    "    \n",
    "    # Initialize the linear annealing scheduler\n",
    "    epsilon = utilities.LinearSchedule(\n",
    "        annealing_steps, \n",
    "        annealing_stop, \n",
    "        annealing_start\n",
    "    )\n",
    "    \n",
    "    # Inititalize the stack of frames\n",
    "    stacked_frames = deque(\n",
    "        [np.zeros((frame_size, frame_size), dtype=np.int) for i in range(stack_size)], \n",
    "        maxlen=stack_size\n",
    "    ) \n",
    "    \n",
    "    # Fill up the memory buffer\n",
    "    utilities.pretrain(\n",
    "        pretrain_steps,\n",
    "        memory,\n",
    "        stack_size,\n",
    "        frame_size,\n",
    "        stacked_frames,\n",
    "        game,\n",
    "        actions\n",
    "    )\n",
    "    \n",
    "    for episode in tqdm.tqdm(range(n_episodes)):\n",
    "        eps = epsilon.value(episode)\n",
    "        episode_reward = 0.0\n",
    "        episode_loss = 0.0\n",
    "        \n",
    "        # New episode\n",
    "        game.new_episode()\n",
    "        done = game.is_episode_finished()\n",
    "        \n",
    "        # Initial state\n",
    "        frame = game.get_state().screen_buffer\n",
    "        state = utilities.stack_frames(\n",
    "            stacked_frames, frame, True, stack_size, frame_size\n",
    "        )\n",
    "        \n",
    "        while not done:\n",
    "            # Action selection phase\n",
    "            action, action_index = predict_action(policy_net, eps, state, actions)\n",
    "\n",
    "            reward = game.make_action(action, skip_rate)\n",
    "            done = game.is_episode_finished()\n",
    "\n",
    "            # Next state\n",
    "            if done: # Dead\n",
    "                frame = np.zeros(frame.shape)\n",
    "            \n",
    "            else:\n",
    "                frame = game.get_state().screen_buffer\n",
    "            \n",
    "            next_state = utilities.stack_frames(\n",
    "                stacked_frames, frame, False, stack_size, frame_size\n",
    "            )\n",
    "            \n",
    "            memory.add((state, action_index, reward, next_state, done))\n",
    "            episode_reward += reward\n",
    "            \n",
    "            # Learning step\n",
    "            batch = memory.sample(batch_size)\n",
    "                \n",
    "            batch = np.array(memory.sample(batch_size))\n",
    "            \n",
    "            state_b = np.stack(batch[:,0])\n",
    "            action_b = np.stack(batch[:,1])  \n",
    "            reward_b = batch[:,2]\n",
    "            next_state_b = np.stack(batch[:,3])\n",
    "            done_b = batch[:,4]\n",
    "\n",
    "#             print('state_b', state_b.shape)\n",
    "#             print('action_b', action_b.shape)\n",
    "#             print('action_b0', type(action_b[0]))\n",
    "#             print('reward_b', reward_b.shape)\n",
    "#             print('next_state_b', next_state_b.shape)\n",
    "#             print('done_b', done_b.shape)  \n",
    "            \n",
    "            Q_next_b = policy_net.model.predict(next_state_b)\n",
    "#             print('Q_next_b', Q_next_b.shape)\n",
    "          \n",
    "            # Trick to get the right shape of the targets\n",
    "            targets_b = policy_net.model.predict(state_b)\n",
    "            targets_b[range(batch_size), action_b] = reward_b + gamma * np.max(Q_next_b, axis=1) * np.invert(done_b)\n",
    "#             print('targets_b', targets_b.shape)\n",
    "            \n",
    "            episode_loss += policy_net.model.train_on_batch(state_b, targets_b)\n",
    "\n",
    "        \n",
    "        episode_rewards.append(episode_reward)\n",
    "        episode_losses.append(episode_loss)\n",
    "    \n",
    "    return episode_rewards, episode_losses, policy_net"
   ]
  },
  {
   "cell_type": "code",
   "execution_count": 8,
   "metadata": {
    "scrolled": false
   },
   "outputs": [
    {
     "name": "stderr",
     "output_type": "stream",
     "text": [
      "100%|██████████| 50/50 [07:12<00:00,  9.52s/it]"
     ]
    },
    {
     "name": "stdout",
     "output_type": "stream",
     "text": [
      "CPU times: user 29min 49s, sys: 11min 22s, total: 41min 12s\n",
      "Wall time: 7min 13s\n"
     ]
    },
    {
     "name": "stderr",
     "output_type": "stream",
     "text": [
      "\n"
     ]
    }
   ],
   "source": [
    "%%time\n",
    "episode_rewards, episode_losses, policy_net = train_net(config, 50, game, actions)"
   ]
  },
  {
   "cell_type": "code",
   "execution_count": 9,
   "metadata": {},
   "outputs": [
    {
     "data": {
      "text/plain": [
       "[<matplotlib.lines.Line2D at 0x1061b3da0>]"
      ]
     },
     "execution_count": 9,
     "metadata": {},
     "output_type": "execute_result"
    },
    {
     "data": {
      "image/png": "[encoded data removed]",
      "text/plain": [
       "<Figure size 432x288 with 1 Axes>"
      ]
     },
     "metadata": {
      "needs_background": "light"
     },
     "output_type": "display_data"
    }
   ],
   "source": [
    "plt.plot(episode_rewards)"
   ]
  },
  {
   "cell_type": "code",
   "execution_count": 10,
   "metadata": {},
   "outputs": [
    {
     "data": {
      "text/plain": [
       "[<matplotlib.lines.Line2D at 0x107454e10>]"
      ]
     },
     "execution_count": 10,
     "metadata": {},
     "output_type": "execute_result"
    },
    {
     "data": {
      "image/png": "[encoded data removed]",
      "text/plain": [
       "<Figure size 432x288 with 1 Axes>"
      ]
     },
     "metadata": {
      "needs_background": "light"
     },
     "output_type": "display_data"
    }
   ],
   "source": [
    "plt.plot(episode_losses)"
   ]
  },
  {
   "cell_type": "code",
   "execution_count": 11,
   "metadata": {},
   "outputs": [],
   "source": [
    "game.close()"
   ]
  },
  {
   "cell_type": "code",
   "execution_count": 12,
   "metadata": {},
   "outputs": [
    {
     "name": "stdout",
     "output_type": "stream",
     "text": [
      "[56.0, -375.0, 91.0, -375.0, 95.0, -375.0, 93.0, -244.0, -236.0, -385.0, -380.0, -375.0, 77.0, -180.0, -141.0, -40.0, 45.0, -380.0, -370.0, -62.0, -365.0, 87.0, -375.0, -375.0, 93.0, -380.0, -370.0, 95.0, -233.0, 16.0, -110.0, 91.0, 95.0, -370.0, -45.0, 47.0, -375.0, 91.0, -48.0, 95.0, -163.0, 89.0, -370.0, 8.0, -380.0, 36.0, -370.0, -370.0, -380.0, -7.0]\n"
     ]
    }
   ],
   "source": [
    "print(episode_rewards)"
   ]
  },
  {
   "cell_type": "code",
   "execution_count": null,
   "metadata": {},
   "outputs": [],
   "source": []
  }
 ],
 "metadata": {
  "kernelspec": {
   "display_name": "Python 3",
   "language": "python",
   "name": "python3"
  },
  "language_info": {
   "codemirror_mode": {
    "name": "ipython",
    "version": 3
   },
   "file_extension": ".py",
   "mimetype": "text/x-python",
   "name": "python",
   "nbconvert_exporter": "python",
   "pygments_lexer": "ipython3",
   "version": "3.6.5"
  }
 },
 "nbformat": 4,
 "nbformat_minor": 2
}
