{
 "cells": [
  {
   "cell_type": "code",
   "execution_count": 1,
   "metadata": {},
   "outputs": [],
   "source": [
    "%load_ext autoreload\n",
    "%autoreload 2"
   ]
  },
  {
   "cell_type": "code",
   "execution_count": 2,
   "metadata": {},
   "outputs": [],
   "source": [
    "import matplotlib.pyplot as plt\n",
    "import tensorflow as tf\n",
    "import numpy as np\n",
    "import random\n",
    "\n",
    "from tensorflow.keras.callbacks import TensorBoard\n",
    "from tensorflow.keras import layers\n",
    "from doom_src import utilities\n",
    "from collections import deque\n",
    "from time import time\n",
    "from vizdoom import *"
   ]
  },
  {
   "cell_type": "markdown",
   "metadata": {},
   "source": [
    "First, let's load the config file and create a new game instance"
   ]
  },
  {
   "cell_type": "code",
   "execution_count": 3,
   "metadata": {},
   "outputs": [],
   "source": [
    "config = utilities.get_config('configs/config.json')"
   ]
  },
  {
   "cell_type": "code",
   "execution_count": 4,
   "metadata": {},
   "outputs": [],
   "source": [
    "game, actions = utilities.create_environment(config)"
   ]
  },
  {
   "cell_type": "markdown",
   "metadata": {},
   "source": [
    "We will now need a DQN model"
   ]
  },
  {
   "cell_type": "code",
   "execution_count": 5,
   "metadata": {},
   "outputs": [],
   "source": [
    "class DQN_D():\n",
    "    \"\"\"\n",
    "    Define the Deep-Q Network to play Doom.\n",
    "    \"\"\"\n",
    "    \n",
    "    def __init__(self, config):\n",
    "        frame_size = config['frame_size']\n",
    "        stack_size = config['stack_size']\n",
    "        learning_rate = config['learning_rate']\n",
    "        \n",
    "        model = tf.keras.Sequential()\n",
    "        \n",
    "        # Convolutional layer 1\n",
    "        model.add(\n",
    "            layers.Convolution2D(\n",
    "                filters=32, \n",
    "                kernel_size=(8, 8),\n",
    "                strides=(4,4),\n",
    "                padding='valid',\n",
    "                input_shape=(frame_size, frame_size, stack_size),\n",
    "            )\n",
    "        )\n",
    "        \n",
    "        model.add(\n",
    "            layers.BatchNormalization(\n",
    "                epsilon = 1e-5,\n",
    "            )\n",
    "        )\n",
    "\n",
    "        # Convolutional layer 2\n",
    "        model.add(\n",
    "            layers.Convolution2D(\n",
    "                filters=64, \n",
    "                kernel_size=(4, 4),\n",
    "                strides=(2,2),\n",
    "                padding='valid',\n",
    "            )\n",
    "        )\n",
    "        \n",
    "        model.add(\n",
    "            layers.BatchNormalization(\n",
    "                epsilon = 1e-5,\n",
    "            )\n",
    "        )\n",
    "        \n",
    "        # Convolutional layer 3\n",
    "        model.add(\n",
    "            layers.Convolution2D(\n",
    "                filters=64, \n",
    "                kernel_size=(4, 4),\n",
    "                strides=(1,1),\n",
    "                padding='valid',\n",
    "            )\n",
    "        )\n",
    "        \n",
    "        model.add(\n",
    "            layers.BatchNormalization(\n",
    "                epsilon = 1e-5,\n",
    "            )\n",
    "        )\n",
    "    \n",
    "        # Flatten before passing to dense layers\n",
    "        model.add(layers.Flatten())\n",
    "        \n",
    "        # Dense layer 1\n",
    "        model.add(\n",
    "            layers.Dense(\n",
    "                units=512,\n",
    "                activation='relu',\n",
    "            )\n",
    "        )\n",
    "        \n",
    "        # Dense layer 2\n",
    "        model.add(\n",
    "            layers.Dense(\n",
    "                units=3,\n",
    "                activation='relu',\n",
    "            )\n",
    "        )\n",
    "        \n",
    "        self.op = tf.keras.optimizers.Adam(lr=learning_rate)\n",
    "        model.compile(loss='mse',optimizer=self.op)\n",
    "        \n",
    "        tensorboard = TensorBoard(log_dir=\"logs/{}\".format(time()))\n",
    "        \n",
    "        self.model = model\n",
    "        self.board = tensorboard"
   ]
  },
  {
   "cell_type": "code",
   "execution_count": 6,
   "metadata": {},
   "outputs": [],
   "source": [
    "def predict_action(policy_network, epsilon, state, actions):\n",
    "    \"\"\"\n",
    "    Implements the epsilon-greedy strategy\n",
    "    \"\"\"\n",
    "    \n",
    "    if np.random.rand(1) < epsilon:\n",
    "        action = random.choice(actions)\n",
    "    \n",
    "    else:\n",
    "        # print(state.shape)\n",
    "        q = policy_network.model.predict(state.reshape([1,] + list(state.shape)))\n",
    "        max_Q = np.argmax(q)\n",
    "        # print(q, max_Q)\n",
    "        action = actions[max_Q]\n",
    "        \n",
    "    return action    "
   ]
  },
  {
   "cell_type": "code",
   "execution_count": 9,
   "metadata": {},
   "outputs": [],
   "source": [
    "def train_net(config, n_episodes, game, actions):\n",
    "    \"\"\"\n",
    "    Train the Q Network\n",
    "    \"\"\"\n",
    "    \n",
    "    gamma           = config['gamma']\n",
    "    stack_size      = config['stack_size']\n",
    "    frame_size      = config['frame_size']\n",
    "    pretrain_steps  = config['pretrain_steps']\n",
    "    batch_size      = config['batch_size']\n",
    "    memory_size     = config['memory_size']\n",
    "    annealing_steps = config['annealing_steps']\n",
    "    annealing_stop  = config['annealing_stop']\n",
    "    annealing_start = config['annealing_start']\n",
    "    \n",
    "    episode_rewards = []\n",
    "    \n",
    "    # Initialize the DQN\n",
    "    policy_net = DQN_D(config)\n",
    "    \n",
    "    # Inititalize the memory buffer\n",
    "    memory = utilities.Memory(memory_size)\n",
    "    \n",
    "    # Initialize the linear annealing scheduler\n",
    "    epsilon = utilities.LinearSchedule(\n",
    "        annealing_steps, \n",
    "        annealing_stop, \n",
    "        annealing_start\n",
    "    )\n",
    "    \n",
    "    # Inititalize the stack of frames\n",
    "    stacked_frames = deque(\n",
    "        [np.zeros((frame_size, frame_size), dtype=np.int) for i in range(stack_size)], \n",
    "        maxlen=stack_size\n",
    "    ) \n",
    "    \n",
    "    # Fill up the memory buffer\n",
    "    utilities.pretrain(\n",
    "        pretrain_steps,\n",
    "        memory,\n",
    "        stack_size,\n",
    "        frame_size,\n",
    "        stacked_frames,\n",
    "        game,\n",
    "        actions\n",
    "    )\n",
    "    \n",
    "    for episode in range(n_episodes):\n",
    "        eps = epsilon.value(episode)\n",
    "        episode_reward = 0.0\n",
    "        \n",
    "        # New episode\n",
    "        game.new_episode()\n",
    "        done = game.is_episode_finished()\n",
    "        \n",
    "        # Initial state\n",
    "        frame = game.get_state().screen_buffer\n",
    "        state = utilities.stack_frames(\n",
    "            stacked_frames, frame, True, stack_size, frame_size\n",
    "        )\n",
    "        \n",
    "        while not done:\n",
    "            # Action selection phase\n",
    "            action = predict_action(policy_net, eps, state, actions)\n",
    "\n",
    "            reward = game.make_action(action)\n",
    "            done = game.is_episode_finished()\n",
    "\n",
    "            # Next state\n",
    "            if done: # Dead\n",
    "                frame = np.zeros(frame.shape)\n",
    "            \n",
    "            else:\n",
    "                frame = game.get_state().screen_buffer\n",
    "            \n",
    "            next_state = utilities.stack_frames(\n",
    "                stacked_frames, frame, False, stack_size, frame_size\n",
    "            )\n",
    "            \n",
    "            memory.add((state, action, reward, next_state, done))\n",
    "            episode_reward += reward\n",
    "            \n",
    "            # Learning step\n",
    "            batch = memory.sample(batch_size)\n",
    "            state_b, action_b, reward_b, next_state_b, done_b = zip(*batch)\n",
    "            \n",
    "            state_b = np.stack(state_b)\n",
    "            print('state_b', state_b.shape)\n",
    "            next_state_b = np.stack(next_state_b)\n",
    "            print('next_state_b', next_state_b.shape)\n",
    "            targets_b = policy_net.model.predict(state_b)\n",
    "            print('targets_b', targets_b.shape)\n",
    "            Q_b = policy_net.model.predict(next_state_b)\n",
    "            print('Q_b', Q_b.shape)\n",
    "            targets_b[range(batch_size), action_b] = reward_b + gamma * np.max(Q_b, axis=1) * np.invert(done_b)\n",
    "            print('targets_b', targets_b.shape)\n",
    "\n",
    "            loss += policy_net.model.train_on_batch(state_b, targets_b)\n",
    "            return\n",
    "\n",
    "        \n",
    "        episode_rewards.append(episode_reward)\n",
    "    \n",
    "    return episode_rewards"
   ]
  },
  {
   "cell_type": "code",
   "execution_count": 10,
   "metadata": {
    "scrolled": false
   },
   "outputs": [
    {
     "name": "stdout",
     "output_type": "stream",
     "text": [
      "state_b (32, 128, 128, 4)\n",
      "next_state_b (32, 128, 128, 4)\n",
      "targets_b (32, 3)\n",
      "Q_b (32, 3)\n"
     ]
    },
    {
     "ename": "IndexError",
     "evalue": "shape mismatch: indexing arrays could not be broadcast together with shapes (32,) (32,3) ",
     "output_type": "error",
     "traceback": [
      "\u001b[0;31m---------------------------------------------------------------------------\u001b[0m",
      "\u001b[0;31mIndexError\u001b[0m                                Traceback (most recent call last)",
      "\u001b[0;32m<ipython-input-10-637d924ca550>\u001b[0m in \u001b[0;36m<module>\u001b[0;34m\u001b[0m\n\u001b[0;32m----> 1\u001b[0;31m \u001b[0mepisode_rewards\u001b[0m \u001b[0;34m=\u001b[0m \u001b[0mtrain_net\u001b[0m\u001b[0;34m(\u001b[0m\u001b[0mconfig\u001b[0m\u001b[0;34m,\u001b[0m \u001b[0;36m50\u001b[0m\u001b[0;34m,\u001b[0m \u001b[0mgame\u001b[0m\u001b[0;34m,\u001b[0m \u001b[0mactions\u001b[0m\u001b[0;34m)\u001b[0m\u001b[0;34m\u001b[0m\u001b[0m\n\u001b[0m",
      "\u001b[0;32m<ipython-input-9-c63e2d1b4786>\u001b[0m in \u001b[0;36mtrain_net\u001b[0;34m(config, n_episodes, game, actions)\u001b[0m\n\u001b[1;32m     93\u001b[0m             \u001b[0mQ_b\u001b[0m \u001b[0;34m=\u001b[0m \u001b[0mpolicy_net\u001b[0m\u001b[0;34m.\u001b[0m\u001b[0mmodel\u001b[0m\u001b[0;34m.\u001b[0m\u001b[0mpredict\u001b[0m\u001b[0;34m(\u001b[0m\u001b[0mnext_state_b\u001b[0m\u001b[0;34m)\u001b[0m\u001b[0;34m\u001b[0m\u001b[0m\n\u001b[1;32m     94\u001b[0m             \u001b[0mprint\u001b[0m\u001b[0;34m(\u001b[0m\u001b[0;34m'Q_b'\u001b[0m\u001b[0;34m,\u001b[0m \u001b[0mQ_b\u001b[0m\u001b[0;34m.\u001b[0m\u001b[0mshape\u001b[0m\u001b[0;34m)\u001b[0m\u001b[0;34m\u001b[0m\u001b[0m\n\u001b[0;32m---> 95\u001b[0;31m             \u001b[0mtargets_b\u001b[0m\u001b[0;34m[\u001b[0m\u001b[0mrange\u001b[0m\u001b[0;34m(\u001b[0m\u001b[0mbatch_size\u001b[0m\u001b[0;34m)\u001b[0m\u001b[0;34m,\u001b[0m \u001b[0maction_b\u001b[0m\u001b[0;34m]\u001b[0m \u001b[0;34m=\u001b[0m \u001b[0mreward_b\u001b[0m \u001b[0;34m+\u001b[0m \u001b[0mgamma\u001b[0m \u001b[0;34m*\u001b[0m \u001b[0mnp\u001b[0m\u001b[0;34m.\u001b[0m\u001b[0mmax\u001b[0m\u001b[0;34m(\u001b[0m\u001b[0mQ_b\u001b[0m\u001b[0;34m,\u001b[0m \u001b[0maxis\u001b[0m\u001b[0;34m=\u001b[0m\u001b[0;36m1\u001b[0m\u001b[0;34m)\u001b[0m \u001b[0;34m*\u001b[0m \u001b[0mnp\u001b[0m\u001b[0;34m.\u001b[0m\u001b[0minvert\u001b[0m\u001b[0;34m(\u001b[0m\u001b[0mdone_b\u001b[0m\u001b[0;34m)\u001b[0m\u001b[0;34m\u001b[0m\u001b[0m\n\u001b[0m\u001b[1;32m     96\u001b[0m             \u001b[0mprint\u001b[0m\u001b[0;34m(\u001b[0m\u001b[0;34m'targets_b'\u001b[0m\u001b[0;34m,\u001b[0m \u001b[0mtargets_b\u001b[0m\u001b[0;34m.\u001b[0m\u001b[0mshape\u001b[0m\u001b[0;34m)\u001b[0m\u001b[0;34m\u001b[0m\u001b[0m\n\u001b[1;32m     97\u001b[0m \u001b[0;34m\u001b[0m\u001b[0m\n",
      "\u001b[0;31mIndexError\u001b[0m: shape mismatch: indexing arrays could not be broadcast together with shapes (32,) (32,3) "
     ]
    }
   ],
   "source": [
    "episode_rewards = train_net(config, 50, game, actions)"
   ]
  },
  {
   "cell_type": "code",
   "execution_count": null,
   "metadata": {},
   "outputs": [],
   "source": [
    "plt.plot(episode_rewards)"
   ]
  },
  {
   "cell_type": "code",
   "execution_count": 11,
   "metadata": {},
   "outputs": [],
   "source": [
    "a = np.array([1,2,3,4,5])"
   ]
  },
  {
   "cell_type": "code",
   "execution_count": 12,
   "metadata": {},
   "outputs": [],
   "source": [
    "mask = np.array([0,1,0,1,1])"
   ]
  },
  {
   "cell_type": "code",
   "execution_count": 13,
   "metadata": {},
   "outputs": [
    {
     "data": {
      "text/plain": [
       "array([1, 2, 1, 2, 2])"
      ]
     },
     "execution_count": 13,
     "metadata": {},
     "output_type": "execute_result"
    }
   ],
   "source": [
    "a[mask]"
   ]
  },
  {
   "cell_type": "code",
   "execution_count": 14,
   "metadata": {},
   "outputs": [
    {
     "data": {
      "text/plain": [
       "array([[1],\n",
       "       [2],\n",
       "       [1],\n",
       "       [2],\n",
       "       [2]])"
      ]
     },
     "execution_count": 14,
     "metadata": {},
     "output_type": "execute_result"
    }
   ],
   "source": [
    "np.expand_dims(a, axis=1)[mask]"
   ]
  },
  {
   "cell_type": "code",
   "execution_count": null,
   "metadata": {},
   "outputs": [],
   "source": []
  }
 ],
 "metadata": {
  "kernelspec": {
   "display_name": "Python 3",
   "language": "python",
   "name": "python3"
  },
  "language_info": {
   "codemirror_mode": {
    "name": "ipython",
    "version": 3
   },
   "file_extension": ".py",
   "mimetype": "text/x-python",
   "name": "python",
   "nbconvert_exporter": "python",
   "pygments_lexer": "ipython3",
   "version": "3.6.5"
  }
 },
 "nbformat": 4,
 "nbformat_minor": 2
}
