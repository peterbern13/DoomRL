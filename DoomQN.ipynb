{
 "cells": [
  {
   "cell_type": "code",
   "execution_count": 1,
   "metadata": {},
   "outputs": [],
   "source": [
    "%load_ext autoreload\n",
    "%autoreload 2"
   ]
  },
  {
   "cell_type": "code",
   "execution_count": 2,
   "metadata": {},
   "outputs": [],
   "source": [
    "import tensorflow as tf\n",
    "import numpy as np\n",
    "\n",
    "from tensorflow.keras import layers\n",
    "from doom_src import utilities\n",
    "from vizdoom import *"
   ]
  },
  {
   "cell_type": "markdown",
   "metadata": {},
   "source": [
    "First, let's load the config file and create a new game instance"
   ]
  },
  {
   "cell_type": "code",
   "execution_count": 3,
   "metadata": {},
   "outputs": [],
   "source": [
    "config = utilities.get_config('configs/config.json')"
   ]
  },
  {
   "cell_type": "code",
   "execution_count": 4,
   "metadata": {},
   "outputs": [],
   "source": [
    "game, actions = utilities.create_environment(config)"
   ]
  },
  {
   "cell_type": "markdown",
   "metadata": {},
   "source": [
    "We will now need a DQN model"
   ]
  },
  {
   "cell_type": "code",
   "execution_count": 5,
   "metadata": {},
   "outputs": [],
   "source": [
    "class DQN_D():\n",
    "    \"\"\"\n",
    "    Define the Deep-Q Network to play Doom.\n",
    "    \"\"\"\n",
    "    \n",
    "    def __init__(self, config):\n",
    "        frame_size = config['frame_size']\n",
    "        stack_size = config['stack_size']\n",
    "        learning_rate = config['learning_rate']\n",
    "        \n",
    "        model = tf.keras.Sequential()\n",
    "        \n",
    "        # Convolutional layer 1\n",
    "        model.add(\n",
    "            layers.Convolution2D(\n",
    "                filters=32, \n",
    "                kernel_size=(8, 8),\n",
    "                strides=(4,4),\n",
    "                padding='valid',\n",
    "                input_shape=(frame_size, frame_size, stack_size),\n",
    "            )\n",
    "        )\n",
    "        \n",
    "        model.add(\n",
    "            layers.BatchNormalization(\n",
    "                epsilon = 1e-5,\n",
    "            )\n",
    "        )\n",
    "\n",
    "        # Convolutional layer 2\n",
    "        model.add(\n",
    "            layers.Convolution2D(\n",
    "                filters=64, \n",
    "                kernel_size=(4, 4),\n",
    "                strides=(2,2),\n",
    "                padding='valid',\n",
    "            )\n",
    "        )\n",
    "        \n",
    "        model.add(\n",
    "            layers.BatchNormalization(\n",
    "                epsilon = 1e-5,\n",
    "            )\n",
    "        )\n",
    "        \n",
    "        # Convolutional layer 3\n",
    "        model.add(\n",
    "            layers.Convolution2D(\n",
    "                filters=64, \n",
    "                kernel_size=(4, 4),\n",
    "                strides=(1,1),\n",
    "                padding='valid',\n",
    "            )\n",
    "        )\n",
    "        \n",
    "        model.add(\n",
    "            layers.BatchNormalization(\n",
    "                epsilon = 1e-5,\n",
    "            )\n",
    "        )\n",
    "    \n",
    "        # Flatten before passing to dense layers\n",
    "        model.add(layers.Flatten())\n",
    "        \n",
    "        # Dense layer 1\n",
    "        model.add(\n",
    "            layers.Dense(\n",
    "                units=512,\n",
    "                activation='relu',\n",
    "            )\n",
    "        )\n",
    "        \n",
    "        # Dense layer 2\n",
    "        model.add(\n",
    "            layers.Dense(\n",
    "                units=2,\n",
    "                activation='relu',\n",
    "            )\n",
    "        )\n",
    "        \n",
    "        self.op = tf.keras.optimizers.Adam(lr=learning_rate)\n",
    "        model.compile(loss='mse',optimizer=self.op)\n",
    "        self.model = model"
   ]
  },
  {
   "cell_type": "code",
   "execution_count": 6,
   "metadata": {},
   "outputs": [],
   "source": [
    "def train_net(config, n_episodes):\n",
    "    \n",
    "    policy_net = DQN_D(config)\n",
    "    \n",
    "    memory = utilities.Memory(10000)\n",
    "    \n",
    "    epsilon = utilities.LinearSchedule(\n",
    "        config['annealing_steps'], \n",
    "        config['annealing_stop'], \n",
    "        config['annealing_start']\n",
    "    )\n",
    "    \n",
    "    for episode in range(n_episodes):\n",
    "        print(epsilon.value(episode))\n",
    "\n",
    "    \n",
    "    "
   ]
  },
  {
   "cell_type": "code",
   "execution_count": 7,
   "metadata": {},
   "outputs": [
    {
     "name": "stdout",
     "output_type": "stream",
     "text": [
      "1.0\n",
      "0.99901\n",
      "0.99802\n",
      "0.99703\n",
      "0.99604\n",
      "0.99505\n",
      "0.99406\n",
      "0.99307\n",
      "0.99208\n",
      "0.99109\n"
     ]
    }
   ],
   "source": [
    "train_net(config, 10)"
   ]
  },
  {
   "cell_type": "code",
   "execution_count": null,
   "metadata": {},
   "outputs": [],
   "source": []
  }
 ],
 "metadata": {
  "kernelspec": {
   "display_name": "Python 3",
   "language": "python",
   "name": "python3"
  },
  "language_info": {
   "codemirror_mode": {
    "name": "ipython",
    "version": 3
   },
   "file_extension": ".py",
   "mimetype": "text/x-python",
   "name": "python",
   "nbconvert_exporter": "python",
   "pygments_lexer": "ipython3",
   "version": "3.6.5"
  }
 },
 "nbformat": 4,
 "nbformat_minor": 2
}
